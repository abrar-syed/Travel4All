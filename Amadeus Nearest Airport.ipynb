{
 "cells": [
  {
   "cell_type": "code",
   "execution_count": 11,
   "metadata": {},
   "outputs": [
    {
     "name": "stdout",
     "output_type": "stream",
     "text": [
      "Requirement already satisfied: amadeus in /srv/app/venv/lib/python3.6/site-packages\n",
      "\u001b[33mYou are using pip version 9.0.3, however version 20.0.2 is available.\n",
      "You should consider upgrading via the 'pip install --upgrade pip' command.\u001b[0m\n",
      "Note: you may need to restart the kernel to use updated packages.\n"
     ]
    }
   ],
   "source": [
    "pip install amadeus"
   ]
  },
  {
   "cell_type": "code",
   "execution_count": 10,
   "metadata": {},
   "outputs": [
    {
     "name": "stdout",
     "output_type": "stream",
     "text": [
      "{'type': 'location', 'subType': 'AIRPORT', 'name': 'SAN FRANCISCO INTL', 'detailedName': 'SAN FRANCISCO/CA/US:SAN FRANCI', 'timeZoneOffset': '-07:00', 'iataCode': 'SFO', 'geoCode': {'latitude': 37.61882, 'longitude': -122.3758}, 'address': {'cityName': 'SAN FRANCISCO', 'cityCode': 'SFO', 'countryName': 'UNITED STATES OF AMERICA', 'countryCode': 'US', 'stateCode': 'CA', 'regionCode': 'NAMER'}, 'distance': {'value': 29, 'unit': 'KM'}, 'analytics': {'flights': {'score': 33}, 'travelers': {'score': 33}}, 'relevance': 110.80057}\n",
      "\n",
      "{'type': 'location', 'subType': 'AIRPORT', 'name': 'OAKLAND INTL', 'detailedName': 'OAKLAND/CA/US:OAKLAND INTL', 'timeZoneOffset': '-07:00', 'iataCode': 'OAK', 'geoCode': {'latitude': 37.72104, 'longitude': -122.2216}, 'address': {'cityName': 'OAKLAND', 'cityCode': 'OAK', 'countryName': 'UNITED STATES OF AMERICA', 'countryCode': 'US', 'stateCode': 'CA', 'regionCode': 'NAMER'}, 'distance': {'value': 17, 'unit': 'KM'}, 'analytics': {'flights': {'score': 8}, 'travelers': {'score': 8}}, 'relevance': 46.65123}\n",
      "\n",
      "{'type': 'location', 'subType': 'AIRPORT', 'name': 'SAN JOSE MNPL', 'detailedName': 'SAN JOSE/CA/US:SAN JOSE MNPL', 'timeZoneOffset': '-07:00', 'iataCode': 'SJC', 'geoCode': {'latitude': 37.36189, 'longitude': -121.9289}, 'address': {'cityName': 'SAN JOSE', 'cityCode': 'SJC', 'countryName': 'UNITED STATES OF AMERICA', 'countryCode': 'US', 'stateCode': 'CA', 'regionCode': 'NAMER'}, 'distance': {'value': 64, 'unit': 'KM'}, 'analytics': {'flights': {'score': 8}, 'travelers': {'score': 7}}, 'relevance': 12.79405}\n",
      "\n",
      "{'type': 'location', 'subType': 'AIRPORT', 'name': 'EXECUTIVE', 'detailedName': 'SACRAMENTO/CA/US:EXECUTIVE', 'timeZoneOffset': '-07:00', 'iataCode': 'SAC', 'geoCode': {'latitude': 38.51323, 'longitude': -121.4975}, 'address': {'cityName': 'SACRAMENTO', 'cityCode': 'SAC', 'countryName': 'UNITED STATES OF AMERICA', 'countryCode': 'US', 'stateCode': 'CA', 'regionCode': 'NAMER'}, 'distance': {'value': 98, 'unit': 'KM'}, 'analytics': {'flights': {'score': 7}, 'travelers': {'score': 6}}, 'relevance': 7.02779}\n",
      "\n",
      "{'type': 'location', 'subType': 'AIRPORT', 'name': 'INTERNATIONAL', 'detailedName': 'SACRAMENTO/CA/US:INTERNATIONAL', 'timeZoneOffset': '-07:00', 'iataCode': 'SMF', 'geoCode': {'latitude': 38.69518, 'longitude': -121.5916}, 'address': {'cityName': 'SACRAMENTO', 'cityCode': 'SAC', 'countryName': 'UNITED STATES OF AMERICA', 'countryCode': 'US', 'stateCode': 'CA', 'regionCode': 'NAMER'}, 'distance': {'value': 109, 'unit': 'KM'}, 'analytics': {'flights': {'score': 7}, 'travelers': {'score': 6}}, 'relevance': 6.22966}\n",
      "\n",
      "{'type': 'location', 'subType': 'AIRPORT', 'name': 'BUCHANAN FLD', 'detailedName': 'CONCORD/CA/US:BUCHANAN FLD', 'timeZoneOffset': '-07:00', 'iataCode': 'CCR', 'geoCode': {'latitude': 37.98937, 'longitude': -122.058}, 'address': {'cityName': 'CONCORD', 'cityCode': 'CCR', 'countryName': 'UNITED STATES OF AMERICA', 'countryCode': 'US', 'stateCode': 'CA', 'regionCode': 'NAMER'}, 'distance': {'value': 22, 'unit': 'KM'}, 'analytics': {'flights': {'score': 0}, 'travelers': {'score': 0}}, 'relevance': 2.01954}\n",
      "\n",
      "{'type': 'location', 'subType': 'AIRPORT', 'name': 'TAHOE INTL', 'detailedName': 'RENO/NV/US:TAHOE INTL', 'timeZoneOffset': '-07:00', 'iataCode': 'RNO', 'geoCode': {'latitude': 39.50597, 'longitude': -119.7731}, 'address': {'cityName': 'RENO', 'cityCode': 'RNO', 'countryName': 'UNITED STATES OF AMERICA', 'countryCode': 'US', 'stateCode': 'NV', 'regionCode': 'NAMER'}, 'distance': {'value': 283, 'unit': 'KM'}, 'analytics': {'flights': {'score': 3}, 'travelers': {'score': 2}}, 'relevance': 1.09241}\n",
      "\n",
      "{'type': 'location', 'subType': 'AIRPORT', 'name': 'CHARLES M SCHULZ', 'detailedName': 'SANTA ROSA/CA/US:CHARLES M SCH', 'timeZoneOffset': '-07:00', 'iataCode': 'STS', 'geoCode': {'latitude': 38.5088, 'longitude': -122.8139}, 'address': {'cityName': 'SANTA ROSA', 'cityCode': 'STS', 'countryName': 'UNITED STATES OF AMERICA', 'countryCode': 'US', 'stateCode': 'CA', 'regionCode': 'NAMER'}, 'distance': {'value': 85, 'unit': 'KM'}, 'analytics': {'flights': {'score': 1}, 'travelers': {'score': 1}}, 'relevance': 0.95318}\n",
      "\n",
      "{'type': 'location', 'subType': 'AIRPORT', 'name': 'FRESNO YOSEMITE INTL', 'detailedName': 'FRESNO/CA/US:FRESNO YOSEMITE I', 'timeZoneOffset': '-07:00', 'iataCode': 'FAT', 'geoCode': {'latitude': 36.77606, 'longitude': -119.719}, 'address': {'cityName': 'FRESNO', 'cityCode': 'FAT', 'countryName': 'UNITED STATES OF AMERICA', 'countryCode': 'US', 'stateCode': 'CA', 'regionCode': 'NAMER'}, 'distance': {'value': 256, 'unit': 'KM'}, 'analytics': {'flights': {'score': 2}, 'travelers': {'score': 1}}, 'relevance': 0.77396}\n",
      "\n",
      "{'type': 'location', 'subType': 'AIRPORT', 'name': 'MONTEREY REGIONAL', 'detailedName': 'MONTEREY CARMEL/CA/US:MONTEREY', 'timeZoneOffset': '-07:00', 'iataCode': 'MRY', 'geoCode': {'latitude': 36.5879, 'longitude': -121.8394}, 'address': {'cityName': 'MONTEREY CARMEL', 'cityCode': 'MRY', 'countryName': 'UNITED STATES OF AMERICA', 'countryCode': 'US', 'stateCode': 'CA', 'regionCode': 'NAMER'}, 'distance': {'value': 147, 'unit': 'KM'}, 'analytics': {'flights': {'score': 1}, 'travelers': {'score': 1}}, 'relevance': 0.63251}\n",
      "\n"
     ]
    }
   ],
   "source": [
    "# Nearest airport search \n",
    "#Need to get live latitude and longitudinal data from Google Maps\n",
    "import json\n",
    "from amadeus import Client, ResponseError\n",
    "\n",
    "amadeus = Client(client_id='0sjCcI0etEzdHDjGpo8GDfVG3z7mGZxH',\n",
    "    client_secret='A5GeEev8gO0qrXTP')\n",
    "\n",
    "try:\n",
    "    '''\n",
    "    What relevant airports are there around a specific location?\n",
    "    '''\n",
    "    response = amadeus.reference_data.locations.airports.get(longitude=-122.272743, latitude=37.871593)\n",
    "    for i in response.data:\n",
    "        print(i)\n",
    "        print()\n",
    "except ResponseError as error:\n",
    "    raise error"
   ]
  },
  {
   "cell_type": "code",
   "execution_count": null,
   "metadata": {},
   "outputs": [],
   "source": []
  }
 ],
 "metadata": {
  "kernelspec": {
   "display_name": "Python 3",
   "language": "python",
   "name": "python3"
  },
  "language_info": {
   "codemirror_mode": {
    "name": "ipython",
    "version": 3
   },
   "file_extension": ".py",
   "mimetype": "text/x-python",
   "name": "python",
   "nbconvert_exporter": "python",
   "pygments_lexer": "ipython3",
   "version": "3.6.9"
  }
 },
 "nbformat": 4,
 "nbformat_minor": 4
}
